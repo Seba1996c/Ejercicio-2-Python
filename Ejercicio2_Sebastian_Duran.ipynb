{
 "cells": [
  {
   "cell_type": "markdown",
   "id": "2f3d9a0a-3758-4a6a-a093-6e8d5a86c0fe",
   "metadata": {},
   "source": [
    "# Ejercicio 2 : Desafío - Conociendo Python (Parte II)"
   ]
  },
  {
   "cell_type": "markdown",
   "id": "1caf03a2-a8ed-4e2d-b69e-17c53c0d8db4",
   "metadata": {},
   "source": [
    "*Pregunta 1: Suma de números pares*\n",
    "\n",
    "Escribe un programa que pida al usuario dos números enteros y calcule la suma de\n",
    "todos los números pares entre ellos. El programa deberá imprimir el resultado. (hint:\n",
    "utilice la función range() para generar la secuencia de números enteros)"
   ]
  },
  {
   "cell_type": "code",
   "execution_count": null,
   "id": "52f131f8-d1a9-4d54-9b7e-6c17a4ea1291",
   "metadata": {},
   "outputs": [],
   "source": [
    "# Primero pediremos dos numeros al usuario que esten en int\n",
    "\n",
    "numero_1 = int(input(\"Ingresa el primer número entero: \"))\n",
    "numero_2 = int(input(\"Ingresa el segundo número entero: \"))\n",
    "\n",
    "# Asegurar que el rango esté en orden correcto\n",
    "\n",
    "if numero_1 > numero_2:\n",
    "    numero_1, numero_2 = numero_1, numero_2\n",
    "\n",
    "# Usar funcion range para sumar los números pares\n",
    "# Agregamos una condicion donde el mod de 2 == 0\n",
    "suma_pares = sum(num for num in range(numero_1, numero_2 + 1) if num % 2 == 0)\n",
    "\n",
    "# Mostrar el resultado de la suma de ambos numeros\n",
    "print(f\"La suma de los números pares entre {numero_1} y {numero_2} es: {suma_pares}\")"
   ]
  },
  {
   "cell_type": "markdown",
   "id": "d126eb38-1222-4444-8c5a-a4560cbe6ab6",
   "metadata": {},
   "source": [
    "*Pregunta 2: Calculadora de áreas*\n",
    "\n",
    "Escribe un programa que pida al usuario el tipo de figura geométrica de la que quiere\n",
    "calcular el área (cuadrado, triángulo o círculo) y las medidas correspondientes. El\n",
    "programa deberá calcular y mostrar el área de la figura seleccionada. (hint: para\n",
    "obtener el número pi puedes utilizar la librería math)"
   ]
  },
  {
   "cell_type": "markdown",
   "id": "6b04d7a7-9878-4ea1-bd0f-5e3dca71baad",
   "metadata": {},
   "source": [
    "area del rectangulo = $\\L * L$\n",
    "\n",
    "area de la esfera = \\$\\pi r^2$\n",
    "\n",
    "area de la piramide = $\\b * h /2 $"
   ]
  },
  {
   "cell_type": "code",
   "execution_count": null,
   "id": "c9d28fab-7c3e-495d-b4b6-75e6263ef98f",
   "metadata": {},
   "outputs": [],
   "source": [
    "# Importamos la biblioteca math para utilizar el valor de π.\n",
    "import math\n",
    "\n",
    "# Paso 1: Solicitar al usuario el tipo de figura geométrica.\n",
    "print(\"Elige la figura geométrica para calcular el área:\")\n",
    "print(\"1. Rectángulo\")\n",
    "print(\"2. Pirámide\")\n",
    "print(\"3. Esfera\")\n",
    "eleccion = int(input(\"Escribe el número correspondiente a la figura (1-3): \"))\n",
    "\n",
    "# Paso 2: Calcular el área según la figura seleccionada.\n",
    "if eleccion == 1:  # Rectángulo\n",
    "    lado_rect = float(input(\"Escribe la longitud de un lado del rectángulo: \"))\n",
    "    area_rect = lado_rect ** 2\n",
    "    print(f\"El área del rectángulo es: {area_rect:.2f}\")\n",
    "elif eleccion == 2:  # Pirámide\n",
    "    base_piramide = float(input(\"Escribe la base de la pirámide: \"))\n",
    "    altura_piramide = float(input(\"Escribe la altura de la pirámide: \"))\n",
    "    area_piramide = (base_piramide * altura_piramide) / 2\n",
    "    print(f\"El área de la pirámide es: {area_piramide:.2f}\")\n",
    "elif eleccion == 3:  # Esfera\n",
    "    radio_esfera = float(input(\"Escribe el radio de la esfera: \"))\n",
    "    area_esfera = math.pi * radio_esfera ** 2\n",
    "    print(f\"El área de la esfera es: {area_esfera:.2f}\")\n",
    "else:\n",
    "    print(\"Opción no válida. Asegúrate de elegir 1, 2 o 3.\")\n",
    "    # vuelve a repetir, si no se eligio 1 2 o 3"
   ]
  },
  {
   "cell_type": "markdown",
   "id": "3639de4c-2f13-4576-9966-6d5b0ae038a9",
   "metadata": {},
   "source": [
    "*Ejercicio 3: Adivina el número*\n",
    "\n",
    "Escribe un programa que genere un número aleatorio entre 1 y 100 y pida al usuario\n",
    "que adivine cuál es. El programa deberá dar pistas al usuario diciendo si el número\n",
    "que ha introducido es mayor o menor que el número aleatorio. El programa deberá\n",
    "continuar pidiendo números hasta que el usuario adivine el número correcto. (hint:\n",
    "utiliza un ciclo while para mantener al programa pidiendo números)"
   ]
  },
  {
   "cell_type": "code",
   "execution_count": null,
   "id": "8ca08f28-55cf-4f9b-86cb-930dd3c2bd60",
   "metadata": {},
   "outputs": [],
   "source": [
    "import random\n",
    "\n",
    "# Generar un número aleatorio entre 1 y 100\n",
    "numero_al = random.randint(1, 100)\n",
    "\n",
    "# Inicializamos el contador de intentos\n",
    "contador = 0\n",
    "\n",
    "# Bucle que continúa hasta que el número sea adivinado\n",
    "while True:\n",
    "    numero = int(input(\"Escoje un número entre 1 y 100: \"))\n",
    "    contador += 1  # Aumentar el contador de intentos\n",
    "\n",
    "    if numero < numero_al:\n",
    "        print(\"El número es mayor que el que elegiste. Intenta de nuevo.\")\n",
    "    elif numero > numero_al:\n",
    "        print(\"El número es menor que el que elegiste. Intenta de nuevo.\")\n",
    "    else:\n",
    "        print(f\"¡Correcto! El número era {numero_al}. Lo adivinaste en {contador} intentos.\")\n",
    "        break  # Salir del bucle cuando el número es correcto"
   ]
  },
  {
   "cell_type": "markdown",
   "id": "a6d15830-329d-4d08-b417-bdf87a8aa78a",
   "metadata": {},
   "source": [
    "*Ejercicio 4: Carrera de pollito*\n",
    "\n",
    "Crea un programa que simule segundo a segundo la acción de un pollo que recorre una\n",
    "distancia de 100 metros. Pide al usuario que ingrese la velocidad a la que puede correr el\n",
    "pollo, y usando un ciclo while muestra un emoji de pollo 🐥 que se vaya moviendo hacia la\n",
    "derecha en cada impresión, como se muestra en los ejemplos."
   ]
  },
  {
   "cell_type": "code",
   "execution_count": null,
   "id": "10a6d0d3-f8f1-4914-bf6d-6c6e0f3cd353",
   "metadata": {},
   "outputs": [],
   "source": [
    "import time\n",
    "# Comenzamos importando las libreria time, para la funcion de segundos time.sleep(x)\n",
    "\n",
    "# Pedir al usuario la velocidad a la que puede correr el pollito (en metros/segundo)\n",
    "velocidad = int(input(\"Ingresa la velocidad del pollito en metros/segundo: \"))\n",
    "\n",
    "# Definir las variables necesarias para la carrera del pollito\n",
    "distancia_recorrida = 0\n",
    "distancia_total = 100\n",
    "emoji_pollitito = \"🐥\"\n",
    "espacio = \"-\"  \n",
    "# Espacio para mover el emoji del pollito en raya (-)\n",
    "\n",
    "# Simulación de movimiento del pollito desde el inicio 0\n",
    "while distancia_recorrida < distancia_total:\n",
    "    # Mostrar el pollito moviéndose \n",
    "    print(espacio * distancia_recorrida + emoji_pollitito)\n",
    "    \n",
    "    # Aumentar la distancia recorrida del pollito según la velocidad\n",
    "    distancia_recorrida += velocidad\n",
    "    \n",
    "    # Esperar 1 segundo para simular el paso del tiempo\n",
    "    time.sleep(1)\n",
    "\n",
    "# Finalizar cuando el pollito haya recorrido 100 metros y entregar mensaje de cierre\n",
    "print(espacio * distancia_recorrida + emoji_pollitito)\n",
    "print(\"¡El pollo ha llegado a la meta\")"
   ]
  },
  {
   "cell_type": "markdown",
   "id": "be1297f6-e6cf-483f-b6b7-76757e09d440",
   "metadata": {},
   "source": [
    "Sebastian Duran 🐥"
   ]
  },
  {
   "cell_type": "code",
   "execution_count": null,
   "id": "6225b82e-7415-4049-8904-81ebfc689de9",
   "metadata": {},
   "outputs": [],
   "source": []
  }
 ],
 "metadata": {
  "kernelspec": {
   "display_name": "Python 3 (ipykernel)",
   "language": "python",
   "name": "python3"
  },
  "language_info": {
   "codemirror_mode": {
    "name": "ipython",
    "version": 3
   },
   "file_extension": ".py",
   "mimetype": "text/x-python",
   "name": "python",
   "nbconvert_exporter": "python",
   "pygments_lexer": "ipython3",
   "version": "3.12.4"
  }
 },
 "nbformat": 4,
 "nbformat_minor": 5
}
